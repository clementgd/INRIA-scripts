{
 "cells": [
  {
   "cell_type": "code",
   "execution_count": 55,
   "metadata": {},
   "outputs": [],
   "source": [
    "from matplotlib import colormaps\n",
    "import matplotlib.pyplot as plt\n",
    "from typing import Optional, List, Tuple, Dict\n",
    "import pandas as pd\n",
    "import os\n",
    "import re\n",
    "import json\n",
    "import subprocess\n",
    "import numpy as np\n",
    "from scipy import stats\n",
    "from collections import defaultdict, namedtuple\n",
    "import math as ma\n",
    "import seaborn as sns\n",
    "import importlib\n",
    "\n",
    "import grouping\n",
    "importlib.reload(grouping)\n",
    "from grouping import get_groups, ValuesGroup, print_groups, extract_group"
   ]
  },
  {
   "cell_type": "markdown",
   "metadata": {},
   "source": [
    "#### Global variables"
   ]
  },
  {
   "cell_type": "code",
   "execution_count": 3,
   "metadata": {},
   "outputs": [],
   "source": [
    "TRACE_CMD_CACHE_FILENAME = \"trace_cmd_runtimes\"\n",
    "RESULTS_DIR_PATH = \"../results\"\n",
    "ABSOLUTE_RESULTS_DIR_PATH = \"/home/cgachod/analysis/results\"\n",
    "\n",
    "WORKING_DIR = \"/root/tests\"\n",
    "PERF_SCRIPT_RESULTS_FILEPATH = f\"{WORKING_DIR}/.perf_mem_results.log\"\n",
    "\n",
    "NODE_1_PHYS_ADDR_START = 0x1840000000\n",
    "\n",
    "DAHU_NODE_0_CPUID = [0,2,4,6,8,10,12,14,16,18,20,22,24,26,28,30,32,34,36,38,40,42,44,46,48,50,52,54,56,58,60,62]\n",
    "DAHU_NODE_1_CPUID = [1,3,5,7,9,11,13,15,17,19,21,23,25,27,29,31,33,35,37,39,41,43,45,47,49,51,53,55,57,59,61,63]\n",
    "dahu_cpu_nodes = [1 if cpuid in DAHU_NODE_1_CPUID else 0 for cpuid in range(64)]\n",
    "\n",
    "def in_working_dir(path: str) :\n",
    "    return os.path.join(WORKING_DIR, path)"
   ]
  },
  {
   "cell_type": "code",
   "execution_count": 4,
   "metadata": {},
   "outputs": [
    {
     "name": "stdout",
     "output_type": "stream",
     "text": [
      "{0: 0, 2: 0, 4: 0, 6: 0, 8: 0, 10: 0, 12: 0, 14: 0, 16: 0, 18: 0, 20: 0, 22: 0, 24: 0, 26: 0, 28: 0, 30: 0, 32: 0, 34: 0, 36: 0, 38: 0, 40: 0, 42: 0, 44: 0, 46: 0, 48: 0, 50: 0, 52: 0, 54: 0, 56: 0, 58: 0, 60: 0, 62: 0, 1: 1, 3: 1, 5: 1, 7: 1, 9: 1, 11: 1, 13: 1, 15: 1, 17: 1, 19: 1, 21: 1, 23: 1, 25: 1, 27: 1, 29: 1, 31: 1, 33: 1, 35: 1, 37: 1, 39: 1, 41: 1, 43: 1, 45: 1, 47: 1, 49: 1, 51: 1, 53: 1, 55: 1, 57: 1, 59: 1, 61: 1, 63: 1}\n"
     ]
    }
   ],
   "source": [
    "CPUID_TO_NODE = {}\n",
    "matches = re.findall(\n",
    "    r\"NUMA +node\\d+ +CPU\\(s\\): +([\\d,]+)\", \n",
    "    subprocess.run(\"lscpu\", stdout = subprocess.PIPE, universal_newlines = True).stdout\n",
    ")\n",
    "\n",
    "node_id = 0\n",
    "for cpulist in matches:\n",
    "    for cpuid in cpulist.split(','):\n",
    "        CPUID_TO_NODE[int(cpuid)] = node_id\n",
    "    node_id += 1\n",
    "\n",
    "print(CPUID_TO_NODE)"
   ]
  },
  {
   "cell_type": "code",
   "execution_count": 5,
   "metadata": {},
   "outputs": [
    {
     "name": "stdout",
     "output_type": "stream",
     "text": [
      "Page size : 4096\n",
      "Node upper boundaries : [104152956928]\n"
     ]
    }
   ],
   "source": [
    "PAGE_SIZE = int(subprocess.run([\"getconf\", \"PAGESIZE\"], stdout = subprocess.PIPE, universal_newlines = True).stdout)\n",
    "print(f\"Page size : {PAGE_SIZE}\")\n",
    "\n",
    "matches = re.findall(\n",
    "    r\"start_pfn: +(\\d+)\\sNode (\\d+), +zone +(\\w+)\", \n",
    "    subprocess.run([\"cat\", \"/proc/zoneinfo\"], stdout = subprocess.PIPE, universal_newlines = True).stdout\n",
    ")\n",
    "\n",
    "# page_size = 4096\n",
    "\n",
    "node_upper_boundaries = []\n",
    "for m in matches:\n",
    "    if int(m[1]) > len(node_upper_boundaries):\n",
    "        node_upper_boundaries.append(int(m[0]) * PAGE_SIZE)\n",
    "        \n",
    "print(f\"Node upper boundaries : {node_upper_boundaries}\")\n",
    "\n",
    "\n",
    "def get_node_for_physical_address(addr: int):\n",
    "    boundary_idx = 0\n",
    "    while boundary_idx < len(node_upper_boundaries) and addr >= node_upper_boundaries[boundary_idx]:\n",
    "        boundary_idx += 1\n",
    "    return boundary_idx\n"
   ]
  },
  {
   "cell_type": "code",
   "execution_count": 6,
   "metadata": {},
   "outputs": [],
   "source": [
    "# TODO Make them adapt to the file\n",
    "LOAD_L3_MISS_REMOTE_FWD = \"mem_load_l3_miss_retired.remote_fwd:P\"\n",
    "LOAD_L3_MISS_REMOTE_HITM = \"mem_load_l3_miss_retired.remote_hitm:P\"\n",
    "LOAD_L3_MISS_REMOTE_DRAM = \"mem_load_l3_miss_retired.remote_dram:P\"\n",
    "\n",
    "LOAD_L3_MISS_REMOTE_FWD_COLOR = \"tab:orange\"\n",
    "LOAD_L3_MISS_REMOTE_HITM_COLOR = \"tab:pink\"\n",
    "LOAD_L3_MISS_REMOTE_DRAM_COLOR = \"r\""
   ]
  },
  {
   "cell_type": "code",
   "execution_count": 7,
   "metadata": {},
   "outputs": [],
   "source": [
    "class PerfResultsReader:\n",
    "    def __init__(self, log_file_path = in_working_dir(\".perf.log\")) -> None:\n",
    "        self.log_file_path = log_file_path\n",
    "        self.filtered_log_file_path = \"/tmp/perf_results/.perf_filtered.log\"\n",
    "        filtered_dir = os.path.dirname(self.filtered_log_file_path)\n",
    "        if not os.path.exists(filtered_dir):\n",
    "            os.makedirs(filtered_dir)\n",
    "        \n",
    "    def __get_initial_timestamp(self, data_file_path: str) :\n",
    "        res = subprocess.run(\n",
    "            f\"perf script -i {data_file_path} -F time | head -1\",\n",
    "            shell=True,\n",
    "            stdout = subprocess.PIPE,\n",
    "            universal_newlines = True\n",
    "        )\n",
    "        return float(res.stdout.strip(':\\n '))\n",
    "        \n",
    "    # For example time_option=\"10%-20%\"\n",
    "    def __extract_perf_data_file_with_latency(self, data_file_path: str, executable: Optional[str], time_option: Optional[str]) -> float:\n",
    "        initial_timestamp = self.__get_initial_timestamp(data_file_path)\n",
    "        print(f\"Retrieved initial timestamp : {initial_timestamp}\")\n",
    "        \n",
    "        executable_filter = f\"-c {executable}\" if executable is not None else \"\"\n",
    "        time_filter = f\"--time {time_option}\" if time_option is not None else \"\"\n",
    "        command_str = f\"perf script -i {data_file_path} -L {executable_filter} {time_filter} > {self.log_file_path}\"\n",
    "        print(f\"Executing extraction command : {command_str}\")\n",
    "        result = subprocess.run(\n",
    "            command_str,\n",
    "            shell=True,\n",
    "            stdout = subprocess.PIPE,\n",
    "            universal_newlines = True\n",
    "        )\n",
    "        print(f\"Output : {result.stdout}\")\n",
    "        \n",
    "        filter_command_str = f\"awk '!/ 0 *$/' {self.log_file_path} > {self.filtered_log_file_path}\"\n",
    "        print(f\"Executing filtering command : {filter_command_str}\")\n",
    "        subprocess.run(filter_command_str, shell=True)\n",
    "        \n",
    "        return initial_timestamp\n",
    "    \n",
    "    def __parse_events_with_latency(self, filepath: str, initial_timestamp: float = 0.0) -> pd.DataFrame :\n",
    "        print(f\"Parsing events with latency from file : {filepath}\")\n",
    "        # 1: pid, 2: cpuid, 3: timestamp, 4: period, 5: event, 6: virt_addr \n",
    "        basic_info_regex_lat_str = r\"^ *\\S+ +(\\d+) +(\\d+) +(\\d+\\.\\d+): +(\\d+) +(\\S+): +([0-9a-f]+)\"\n",
    "        \n",
    "        # 1: cache_result, 2: tlb_result, 3: latency, 4: phys_adress\n",
    "        data_src_regex_lat_str = r\"[0-9a-f]+ \\|OP (?:LOAD|STORE)\\|([^\\|]+)\\|[^\\|]+\\|(TLB [^\\|]+)\\|[^\\|]+\\|[a-zA-Z\\/\\- ]+(\\d+) +\\d+ +[0-9a-f]+.+ ([0-9a-f]+)\"\n",
    "        line_lat_regex = re.compile(basic_info_regex_lat_str + r\" +\" + data_src_regex_lat_str)\n",
    "        \n",
    "        # TODO Add an s to all\n",
    "        # pid = []\n",
    "        cpuid = []\n",
    "        timestamp = []\n",
    "        period = []\n",
    "        event = []\n",
    "        virtual_addr = []\n",
    "        cache_result = []\n",
    "        latency = []\n",
    "        physical_addr = []\n",
    "\n",
    "        with open(filepath) as f :\n",
    "            for line in f :\n",
    "                matched = line_lat_regex.match(line)\n",
    "                if matched :\n",
    "                    # pid.append(int(matched[1]))\n",
    "                    cpuid.append(int(matched[2]))\n",
    "                    timestamp.append(float(matched[3]))\n",
    "                    period.append(int(matched[4]))\n",
    "                    event.append(matched[5])\n",
    "                    virtual_addr.append(int(matched[6], base=16))\n",
    "                    cache_result.append(matched[7])\n",
    "                    latency.append(int(matched[9]))\n",
    "                    physical_addr.append(int(matched[10], base=16))\n",
    "                    pass\n",
    "                else :\n",
    "                    print(\"Not matched line : \", line)\n",
    "                    \n",
    "        dahu_cpu_nodes_map = {cpuid: 1 if cpuid in DAHU_NODE_1_CPUID else 0 for cpuid in range(64)}\n",
    "        \n",
    "        events_df = pd.DataFrame({\n",
    "            \"cpuid\": cpuid,  \n",
    "            \"time\": timestamp, \n",
    "            \"period\": period,\n",
    "            \"event\": event,\n",
    "            \"virt\": virtual_addr,\n",
    "            \"phys\": physical_addr, \n",
    "            \"latency\": latency,\n",
    "            \"cache_result\": cache_result,\n",
    "        })\n",
    "        events_df['time'] = events_df['time'] - initial_timestamp\n",
    "        # accesses_df['time_offset'] = accesses_df['time'].diff()\n",
    "        events_df['cpu_node'] = events_df['cpuid'].map(dahu_cpu_nodes_map)\n",
    "        # events_df['memory_node'] = (events_df['phys'] >= NODE_1_PHYS_ADDR_START).astype(int)\n",
    "        events_df['memory_node'] = events_df['phys'].map(get_node_for_physical_address)\n",
    "        return events_df\n",
    "    \n",
    "    def read_perf_data_with_latency(self, data_file_path: str, executable: Optional[str] = None, time_option: Optional[str] = None) -> pd.DataFrame:\n",
    "        initial_timestamp = self.__extract_perf_data_file_with_latency(data_file_path, executable, time_option)\n",
    "        df = self.__parse_events_with_latency(self.filtered_log_file_path, initial_timestamp)\n",
    "        os.remove(self.filtered_log_file_path)\n",
    "        return df\n",
    "    \n",
    "    "
   ]
  },
  {
   "cell_type": "code",
   "execution_count": 8,
   "metadata": {},
   "outputs": [
    {
     "name": "stdout",
     "output_type": "stream",
     "text": [
      "Retrieved initial timestamp : 550.494258\n",
      "Executing extraction command : perf script -i /root/tests/perf-mem-sequential.data -L -c cg.C.x  > /root/tests/.perf.log\n"
     ]
    },
    {
     "name": "stderr",
     "output_type": "stream",
     "text": [
      "Warning:\n",
      "55790 out of order events recorded.\n"
     ]
    },
    {
     "name": "stdout",
     "output_type": "stream",
     "text": [
      "Output : \n",
      "Executing filtering command : awk '!/ 0 *$/' /root/tests/.perf.log > /tmp/perf_results/.perf_filtered.log\n",
      "Parsing events with latency from file : /tmp/perf_results/.perf_filtered.log\n",
      "Retrieved initial timestamp : 513.704079\n",
      "Executing extraction command : perf script -i /root/tests/perf-mem-sockorder.data -L -c cg.C.x  > /root/tests/.perf.log\n"
     ]
    },
    {
     "name": "stderr",
     "output_type": "stream",
     "text": [
      "Warning:\n",
      "43685 out of order events recorded.\n"
     ]
    },
    {
     "name": "stdout",
     "output_type": "stream",
     "text": [
      "Output : \n",
      "Executing filtering command : awk '!/ 0 *$/' /root/tests/.perf.log > /tmp/perf_results/.perf_filtered.log\n",
      "Parsing events with latency from file : /tmp/perf_results/.perf_filtered.log\n"
     ]
    }
   ],
   "source": [
    "prr = PerfResultsReader()\n",
    "# prr._PerfResultsReader__extract_perf_data_file_with_latency(data_file_path=in_working_dir(\"perf-mem-sockorder.data\"), executable=\"cg.C.x\", time_option=None)\n",
    "# prr._PerfResultsReader__parse_events_with_latency(in_working_dir(\".perf.sample.log\"))\n",
    "# events_df = prr.read_perf_data_with_latency(in_working_dir(\"perf-mem-sequential.data\"), \"cg.C.x\", time_option=\"0%-20%\")\n",
    "# events_df = prr.read_perf_data_with_latency(in_working_dir(\"perf-mem-sequential.data\"), \"cg.C.x\")\n",
    "\n",
    "seq_df = prr.read_perf_data_with_latency(in_working_dir(\"perf-mem-sequential.data\"), \"cg.C.x\")\n",
    "sock_df = prr.read_perf_data_with_latency(in_working_dir(\"perf-mem-sockorder.data\"), \"cg.C.x\")"
   ]
  },
  {
   "cell_type": "markdown",
   "metadata": {},
   "source": [
    "- Useless to sort by latency because only loads and stores event have them"
   ]
  },
  {
   "cell_type": "markdown",
   "metadata": {},
   "source": [
    "## Analyzing cpu loads and remote l3 misses"
   ]
  },
  {
   "cell_type": "markdown",
   "metadata": {},
   "source": [
    "Plot number of l3 remote cache for each CPU. Possibly can be multiplied by the period value"
   ]
  },
  {
   "cell_type": "code",
   "execution_count": 44,
   "metadata": {},
   "outputs": [
    {
     "data": {
      "text/plain": [
       "event\n",
       "cpu/mem-stores,period=2000/P              2479812\n",
       "cpu/mem-loads,period=2000/P               1047577\n",
       "mem_load_l3_miss_retired.remote_hitm:P     488043\n",
       "mem_load_l3_miss_retired.remote_fwd:P      461683\n",
       "mem_load_l3_miss_retired.remote_dram:P     192214\n",
       "Name: count, dtype: int64"
      ]
     },
     "execution_count": 44,
     "metadata": {},
     "output_type": "execute_result"
    }
   ],
   "source": [
    "sock_df['event'].value_counts()"
   ]
  },
  {
   "cell_type": "code",
   "execution_count": 57,
   "metadata": {},
   "outputs": [
    {
     "data": {
      "text/plain": [
       "7111875000"
      ]
     },
     "execution_count": 57,
     "metadata": {},
     "output_type": "execute_result"
    }
   ],
   "source": [
    "sum( (sock_df['cpu_node'] == sock_df['memory_node']).astype(int) * sock_df['period'] )\n",
    "\n",
    "sum(sock_df['period'])"
   ]
  },
  {
   "cell_type": "markdown",
   "metadata": {},
   "source": [
    "### Filters"
   ]
  },
  {
   "cell_type": "code",
   "execution_count": 9,
   "metadata": {},
   "outputs": [],
   "source": [
    "def filter_in_bounds(df: pd.DataFrame, bounds: tuple, variable: str):\n",
    "    return df.loc[(df[variable] >= bounds[0]) & (df[variable] < bounds[1])]\n",
    "\n",
    "def filter_local_access(df: pd.DataFrame):\n",
    "    return df.loc[df['cpu_node'] == df['memory_node']]\n",
    "\n",
    "def filter_remote_access(df: pd.DataFrame):\n",
    "    return df.loc[df['cpu_node'] != df['memory_node']]\n",
    "\n",
    "def filter_loads_stores(df: pd.DataFrame):\n",
    "    return df.loc[df['event'].str.contains(\"cpu/\")]\n",
    "\n",
    "def local_access_proportion(df: pd.DataFrame):\n",
    "    # (sock_df['cpu_node'] == sock_df['memory_node']).astype(int) * sock_df['period']\n",
    "    return 100 * sum((df['cpu_node'] == df['memory_node']).astype(int) * df['period']) / sum(df['period'])"
   ]
  },
  {
   "cell_type": "markdown",
   "metadata": {},
   "source": [
    "### Remote vs local stats"
   ]
  },
  {
   "cell_type": "code",
   "execution_count": 10,
   "metadata": {},
   "outputs": [],
   "source": [
    "def print_locality_stats(df: pd.DataFrame):\n",
    "    # local_df = filter_local_access(df)\n",
    "    # remote_df = filter_remote_access(df)\n",
    "\n",
    "    # TODO Interesting to compare percentage of remote nodes on different pinning modes.\n",
    "    print(f\"Total number of events : {'{:.6e}'.format(len(df))}\")\n",
    "    print(f\"Percentage of local loads/stores events : {local_access_proportion(filter_loads_stores(df))}\")\n",
    "    print(f\"Percentage of local events : {local_access_proportion(df)}\")\n",
    "    # remote_df = events_df.loc[events_df['cpu_node'] != events_df['memory_node']]\n",
    "    # remote_df['event'].value_counts()\n",
    "\n",
    "    fwd_subset = df.loc[df['event'] == LOAD_L3_MISS_REMOTE_FWD]\n",
    "    hitm_subset = df.loc[df['event'] == LOAD_L3_MISS_REMOTE_HITM]\n",
    "    dram_subset = df.loc[df['event'] == LOAD_L3_MISS_REMOTE_DRAM]\n",
    "\n",
    "    print(f\"Percentage of {LOAD_L3_MISS_REMOTE_FWD} events where memory is local : {local_access_proportion(fwd_subset)}\")\n",
    "    print(f\"Percentage of {LOAD_L3_MISS_REMOTE_HITM} events where memory is local : {local_access_proportion(hitm_subset)}\")\n",
    "    print(f\"Percentage of {LOAD_L3_MISS_REMOTE_DRAM} events where memory is local : {local_access_proportion(dram_subset)}\")"
   ]
  },
  {
   "cell_type": "code",
   "execution_count": 11,
   "metadata": {},
   "outputs": [
    {
     "name": "stdout",
     "output_type": "stream",
     "text": [
      "Total number of events : 4.669329e+06\n",
      "Percentage of local loads/stores events : 89.68690439302271\n",
      "Percentage of local events : 89.1898317954126\n",
      "Percentage of mem_load_l3_miss_retired.remote_fwd:P events where memory is local : 68.13051379409681\n",
      "Percentage of mem_load_l3_miss_retired.remote_hitm:P events where memory is local : 0.4204547550113412\n",
      "Percentage of mem_load_l3_miss_retired.remote_dram:P events where memory is local : 0.2850989001841697\n",
      "Total number of events : 1.355123e+07\n",
      "Percentage of local loads/stores events : 65.06947474242598\n",
      "Percentage of local events : 60.99988898092088\n",
      "Percentage of mem_load_l3_miss_retired.remote_fwd:P events where memory is local : 63.40296553363016\n",
      "Percentage of mem_load_l3_miss_retired.remote_hitm:P events where memory is local : 10.515091023869239\n",
      "Percentage of mem_load_l3_miss_retired.remote_dram:P events where memory is local : 0.10412233175529911\n"
     ]
    }
   ],
   "source": [
    "# Can we cache a remote dram address ?\n",
    "\n",
    "print_locality_stats(sock_df)\n",
    "\n",
    "print_locality_stats(seq_df)\n",
    "\n",
    "# remote_df.loc[~remote_df['event'].isin(np.array([\"cpu/mem-stores/P\", \"cpu/mem-loads/P\"]))]"
   ]
  },
  {
   "cell_type": "markdown",
   "metadata": {},
   "source": [
    "Kinda wanna have a graph of locality of memory acccess over time"
   ]
  },
  {
   "cell_type": "code",
   "execution_count": 19,
   "metadata": {},
   "outputs": [
    {
     "data": {
      "text/html": [
       "<div>\n",
       "<style scoped>\n",
       "    .dataframe tbody tr th:only-of-type {\n",
       "        vertical-align: middle;\n",
       "    }\n",
       "\n",
       "    .dataframe tbody tr th {\n",
       "        vertical-align: top;\n",
       "    }\n",
       "\n",
       "    .dataframe thead th {\n",
       "        text-align: right;\n",
       "    }\n",
       "</style>\n",
       "<table border=\"1\" class=\"dataframe\">\n",
       "  <thead>\n",
       "    <tr style=\"text-align: right;\">\n",
       "      <th></th>\n",
       "      <th>cpuid</th>\n",
       "      <th>time</th>\n",
       "      <th>period</th>\n",
       "      <th>event</th>\n",
       "      <th>virt</th>\n",
       "      <th>phys</th>\n",
       "      <th>latency</th>\n",
       "      <th>cache_result</th>\n",
       "      <th>cpu_node</th>\n",
       "      <th>memory_node</th>\n",
       "    </tr>\n",
       "  </thead>\n",
       "  <tbody>\n",
       "    <tr>\n",
       "      <th>1</th>\n",
       "      <td>1</td>\n",
       "      <td>0.011690</td>\n",
       "      <td>2000</td>\n",
       "      <td>cpu/mem-stores,period=2000/P</td>\n",
       "      <td>18446625616529871456</td>\n",
       "      <td>104318784096</td>\n",
       "      <td>0</td>\n",
       "      <td>LVL L1 or N/A hit</td>\n",
       "      <td>1</td>\n",
       "      <td>1</td>\n",
       "    </tr>\n",
       "    <tr>\n",
       "      <th>2</th>\n",
       "      <td>1</td>\n",
       "      <td>0.011697</td>\n",
       "      <td>2000</td>\n",
       "      <td>cpu/mem-loads,period=2000/P</td>\n",
       "      <td>18446625719432970792</td>\n",
       "      <td>207221883432</td>\n",
       "      <td>7</td>\n",
       "      <td>LVL L1 or L1 hit</td>\n",
       "      <td>1</td>\n",
       "      <td>1</td>\n",
       "    </tr>\n",
       "    <tr>\n",
       "      <th>3</th>\n",
       "      <td>1</td>\n",
       "      <td>0.011708</td>\n",
       "      <td>2000</td>\n",
       "      <td>cpu/mem-stores,period=2000/P</td>\n",
       "      <td>18446625719432970760</td>\n",
       "      <td>207221883400</td>\n",
       "      <td>0</td>\n",
       "      <td>LVL L1 or N/A hit</td>\n",
       "      <td>1</td>\n",
       "      <td>1</td>\n",
       "    </tr>\n",
       "    <tr>\n",
       "      <th>4</th>\n",
       "      <td>1</td>\n",
       "      <td>0.011727</td>\n",
       "      <td>2000</td>\n",
       "      <td>cpu/mem-stores,period=2000/P</td>\n",
       "      <td>18446625616703321824</td>\n",
       "      <td>104492234464</td>\n",
       "      <td>0</td>\n",
       "      <td>LVL L1 or N/A hit</td>\n",
       "      <td>1</td>\n",
       "      <td>1</td>\n",
       "    </tr>\n",
       "    <tr>\n",
       "      <th>5</th>\n",
       "      <td>1</td>\n",
       "      <td>0.011731</td>\n",
       "      <td>2000</td>\n",
       "      <td>cpu/mem-stores,period=2000/P</td>\n",
       "      <td>18446625616538624048</td>\n",
       "      <td>104327536688</td>\n",
       "      <td>0</td>\n",
       "      <td>LVL L1 or N/A hit</td>\n",
       "      <td>1</td>\n",
       "      <td>1</td>\n",
       "    </tr>\n",
       "    <tr>\n",
       "      <th>...</th>\n",
       "      <td>...</td>\n",
       "      <td>...</td>\n",
       "      <td>...</td>\n",
       "      <td>...</td>\n",
       "      <td>...</td>\n",
       "      <td>...</td>\n",
       "      <td>...</td>\n",
       "      <td>...</td>\n",
       "      <td>...</td>\n",
       "      <td>...</td>\n",
       "    </tr>\n",
       "    <tr>\n",
       "      <th>13551227</th>\n",
       "      <td>59</td>\n",
       "      <td>11.460297</td>\n",
       "      <td>2000</td>\n",
       "      <td>cpu/mem-stores,period=2000/P</td>\n",
       "      <td>18446625719440614920</td>\n",
       "      <td>207229527560</td>\n",
       "      <td>0</td>\n",
       "      <td>LVL L1 or N/A hit</td>\n",
       "      <td>1</td>\n",
       "      <td>1</td>\n",
       "    </tr>\n",
       "    <tr>\n",
       "      <th>13551228</th>\n",
       "      <td>59</td>\n",
       "      <td>11.460320</td>\n",
       "      <td>2000</td>\n",
       "      <td>cpu/mem-stores,period=2000/P</td>\n",
       "      <td>18446625719440614529</td>\n",
       "      <td>207229527169</td>\n",
       "      <td>0</td>\n",
       "      <td>LVL L1 or N/A hit</td>\n",
       "      <td>1</td>\n",
       "      <td>1</td>\n",
       "    </tr>\n",
       "    <tr>\n",
       "      <th>13551229</th>\n",
       "      <td>59</td>\n",
       "      <td>11.460326</td>\n",
       "      <td>2000</td>\n",
       "      <td>cpu/mem-stores,period=2000/P</td>\n",
       "      <td>18446625719440615217</td>\n",
       "      <td>207229527857</td>\n",
       "      <td>0</td>\n",
       "      <td>LVL L1 or N/A hit</td>\n",
       "      <td>1</td>\n",
       "      <td>1</td>\n",
       "    </tr>\n",
       "    <tr>\n",
       "      <th>13551230</th>\n",
       "      <td>59</td>\n",
       "      <td>11.460343</td>\n",
       "      <td>2000</td>\n",
       "      <td>cpu/mem-stores,period=2000/P</td>\n",
       "      <td>18446625719440614920</td>\n",
       "      <td>207229527560</td>\n",
       "      <td>0</td>\n",
       "      <td>LVL L1 or N/A hit</td>\n",
       "      <td>1</td>\n",
       "      <td>1</td>\n",
       "    </tr>\n",
       "    <tr>\n",
       "      <th>13551231</th>\n",
       "      <td>59</td>\n",
       "      <td>11.460347</td>\n",
       "      <td>2000</td>\n",
       "      <td>cpu/mem-stores,period=2000/P</td>\n",
       "      <td>18446625719440585352</td>\n",
       "      <td>207229497992</td>\n",
       "      <td>0</td>\n",
       "      <td>LVL L1 or N/A hit</td>\n",
       "      <td>1</td>\n",
       "      <td>1</td>\n",
       "    </tr>\n",
       "  </tbody>\n",
       "</table>\n",
       "<p>3541215 rows × 10 columns</p>\n",
       "</div>"
      ],
      "text/plain": [
       "          cpuid       time  period                         event  \\\n",
       "1             1   0.011690    2000  cpu/mem-stores,period=2000/P   \n",
       "2             1   0.011697    2000   cpu/mem-loads,period=2000/P   \n",
       "3             1   0.011708    2000  cpu/mem-stores,period=2000/P   \n",
       "4             1   0.011727    2000  cpu/mem-stores,period=2000/P   \n",
       "5             1   0.011731    2000  cpu/mem-stores,period=2000/P   \n",
       "...         ...        ...     ...                           ...   \n",
       "13551227     59  11.460297    2000  cpu/mem-stores,period=2000/P   \n",
       "13551228     59  11.460320    2000  cpu/mem-stores,period=2000/P   \n",
       "13551229     59  11.460326    2000  cpu/mem-stores,period=2000/P   \n",
       "13551230     59  11.460343    2000  cpu/mem-stores,period=2000/P   \n",
       "13551231     59  11.460347    2000  cpu/mem-stores,period=2000/P   \n",
       "\n",
       "                          virt          phys  latency       cache_result  \\\n",
       "1         18446625616529871456  104318784096        0  LVL L1 or N/A hit   \n",
       "2         18446625719432970792  207221883432        7   LVL L1 or L1 hit   \n",
       "3         18446625719432970760  207221883400        0  LVL L1 or N/A hit   \n",
       "4         18446625616703321824  104492234464        0  LVL L1 or N/A hit   \n",
       "5         18446625616538624048  104327536688        0  LVL L1 or N/A hit   \n",
       "...                        ...           ...      ...                ...   \n",
       "13551227  18446625719440614920  207229527560        0  LVL L1 or N/A hit   \n",
       "13551228  18446625719440614529  207229527169        0  LVL L1 or N/A hit   \n",
       "13551229  18446625719440615217  207229527857        0  LVL L1 or N/A hit   \n",
       "13551230  18446625719440614920  207229527560        0  LVL L1 or N/A hit   \n",
       "13551231  18446625719440585352  207229497992        0  LVL L1 or N/A hit   \n",
       "\n",
       "          cpu_node  memory_node  \n",
       "1                1            1  \n",
       "2                1            1  \n",
       "3                1            1  \n",
       "4                1            1  \n",
       "5                1            1  \n",
       "...            ...          ...  \n",
       "13551227         1            1  \n",
       "13551228         1            1  \n",
       "13551229         1            1  \n",
       "13551230         1            1  \n",
       "13551231         1            1  \n",
       "\n",
       "[3541215 rows x 10 columns]"
      ]
     },
     "execution_count": 19,
     "metadata": {},
     "output_type": "execute_result"
    }
   ],
   "source": [
    "load_store_df.sort_values(\"time\")"
   ]
  },
  {
   "cell_type": "code",
   "execution_count": 34,
   "metadata": {},
   "outputs": [
    {
     "data": {
      "text/html": [
       "<div>\n",
       "<style scoped>\n",
       "    .dataframe tbody tr th:only-of-type {\n",
       "        vertical-align: middle;\n",
       "    }\n",
       "\n",
       "    .dataframe tbody tr th {\n",
       "        vertical-align: top;\n",
       "    }\n",
       "\n",
       "    .dataframe thead th {\n",
       "        text-align: right;\n",
       "    }\n",
       "</style>\n",
       "<table border=\"1\" class=\"dataframe\">\n",
       "  <thead>\n",
       "    <tr style=\"text-align: right;\">\n",
       "      <th></th>\n",
       "      <th>cpuid</th>\n",
       "      <th>time</th>\n",
       "      <th>period</th>\n",
       "      <th>event</th>\n",
       "      <th>virt</th>\n",
       "      <th>phys</th>\n",
       "      <th>latency</th>\n",
       "      <th>cache_result</th>\n",
       "      <th>cpu_node</th>\n",
       "      <th>memory_node</th>\n",
       "    </tr>\n",
       "  </thead>\n",
       "  <tbody>\n",
       "    <tr>\n",
       "      <th>1</th>\n",
       "      <td>1</td>\n",
       "      <td>0.011690</td>\n",
       "      <td>2000</td>\n",
       "      <td>cpu/mem-stores,period=2000/P</td>\n",
       "      <td>18446625616529871456</td>\n",
       "      <td>104318784096</td>\n",
       "      <td>0</td>\n",
       "      <td>LVL L1 or N/A hit</td>\n",
       "      <td>1</td>\n",
       "      <td>1</td>\n",
       "    </tr>\n",
       "    <tr>\n",
       "      <th>2</th>\n",
       "      <td>1</td>\n",
       "      <td>0.011697</td>\n",
       "      <td>2000</td>\n",
       "      <td>cpu/mem-loads,period=2000/P</td>\n",
       "      <td>18446625719432970792</td>\n",
       "      <td>207221883432</td>\n",
       "      <td>7</td>\n",
       "      <td>LVL L1 or L1 hit</td>\n",
       "      <td>1</td>\n",
       "      <td>1</td>\n",
       "    </tr>\n",
       "    <tr>\n",
       "      <th>3</th>\n",
       "      <td>1</td>\n",
       "      <td>0.011708</td>\n",
       "      <td>2000</td>\n",
       "      <td>cpu/mem-stores,period=2000/P</td>\n",
       "      <td>18446625719432970760</td>\n",
       "      <td>207221883400</td>\n",
       "      <td>0</td>\n",
       "      <td>LVL L1 or N/A hit</td>\n",
       "      <td>1</td>\n",
       "      <td>1</td>\n",
       "    </tr>\n",
       "    <tr>\n",
       "      <th>4</th>\n",
       "      <td>1</td>\n",
       "      <td>0.011727</td>\n",
       "      <td>2000</td>\n",
       "      <td>cpu/mem-stores,period=2000/P</td>\n",
       "      <td>18446625616703321824</td>\n",
       "      <td>104492234464</td>\n",
       "      <td>0</td>\n",
       "      <td>LVL L1 or N/A hit</td>\n",
       "      <td>1</td>\n",
       "      <td>1</td>\n",
       "    </tr>\n",
       "    <tr>\n",
       "      <th>5</th>\n",
       "      <td>1</td>\n",
       "      <td>0.011731</td>\n",
       "      <td>2000</td>\n",
       "      <td>cpu/mem-stores,period=2000/P</td>\n",
       "      <td>18446625616538624048</td>\n",
       "      <td>104327536688</td>\n",
       "      <td>0</td>\n",
       "      <td>LVL L1 or N/A hit</td>\n",
       "      <td>1</td>\n",
       "      <td>1</td>\n",
       "    </tr>\n",
       "    <tr>\n",
       "      <th>...</th>\n",
       "      <td>...</td>\n",
       "      <td>...</td>\n",
       "      <td>...</td>\n",
       "      <td>...</td>\n",
       "      <td>...</td>\n",
       "      <td>...</td>\n",
       "      <td>...</td>\n",
       "      <td>...</td>\n",
       "      <td>...</td>\n",
       "      <td>...</td>\n",
       "    </tr>\n",
       "    <tr>\n",
       "      <th>2738839</th>\n",
       "      <td>60</td>\n",
       "      <td>0.999960</td>\n",
       "      <td>2000</td>\n",
       "      <td>cpu/mem-loads,period=2000/P</td>\n",
       "      <td>140718740052280</td>\n",
       "      <td>6483548472</td>\n",
       "      <td>39</td>\n",
       "      <td>LVL L2 or L2 hit</td>\n",
       "      <td>0</td>\n",
       "      <td>0</td>\n",
       "    </tr>\n",
       "    <tr>\n",
       "      <th>2738843</th>\n",
       "      <td>37</td>\n",
       "      <td>0.999967</td>\n",
       "      <td>2000</td>\n",
       "      <td>cpu/mem-stores,period=2000/P</td>\n",
       "      <td>140718739015752</td>\n",
       "      <td>106341713992</td>\n",
       "      <td>0</td>\n",
       "      <td>LVL L1 or N/A miss</td>\n",
       "      <td>1</td>\n",
       "      <td>1</td>\n",
       "    </tr>\n",
       "    <tr>\n",
       "      <th>2738846</th>\n",
       "      <td>37</td>\n",
       "      <td>0.999971</td>\n",
       "      <td>2000</td>\n",
       "      <td>cpu/mem-loads,period=2000/P</td>\n",
       "      <td>140719629723620</td>\n",
       "      <td>8894736356</td>\n",
       "      <td>8</td>\n",
       "      <td>LVL L1 or L1 hit</td>\n",
       "      <td>1</td>\n",
       "      <td>0</td>\n",
       "    </tr>\n",
       "    <tr>\n",
       "      <th>2738848</th>\n",
       "      <td>49</td>\n",
       "      <td>0.999973</td>\n",
       "      <td>2000</td>\n",
       "      <td>cpu/mem-loads,period=2000/P</td>\n",
       "      <td>140718965298808</td>\n",
       "      <td>105099859576</td>\n",
       "      <td>98</td>\n",
       "      <td>LVL LFB/MAB or LFB/MAB hit</td>\n",
       "      <td>1</td>\n",
       "      <td>1</td>\n",
       "    </tr>\n",
       "    <tr>\n",
       "      <th>2738862</th>\n",
       "      <td>48</td>\n",
       "      <td>0.999992</td>\n",
       "      <td>2000</td>\n",
       "      <td>cpu/mem-loads,period=2000/P</td>\n",
       "      <td>140718740423224</td>\n",
       "      <td>5996249656</td>\n",
       "      <td>35</td>\n",
       "      <td>LVL L2 or L2 hit</td>\n",
       "      <td>0</td>\n",
       "      <td>0</td>\n",
       "    </tr>\n",
       "  </tbody>\n",
       "</table>\n",
       "<p>2295371 rows × 10 columns</p>\n",
       "</div>"
      ],
      "text/plain": [
       "         cpuid      time  period                         event  \\\n",
       "1            1  0.011690    2000  cpu/mem-stores,period=2000/P   \n",
       "2            1  0.011697    2000   cpu/mem-loads,period=2000/P   \n",
       "3            1  0.011708    2000  cpu/mem-stores,period=2000/P   \n",
       "4            1  0.011727    2000  cpu/mem-stores,period=2000/P   \n",
       "5            1  0.011731    2000  cpu/mem-stores,period=2000/P   \n",
       "...        ...       ...     ...                           ...   \n",
       "2738839     60  0.999960    2000   cpu/mem-loads,period=2000/P   \n",
       "2738843     37  0.999967    2000  cpu/mem-stores,period=2000/P   \n",
       "2738846     37  0.999971    2000   cpu/mem-loads,period=2000/P   \n",
       "2738848     49  0.999973    2000   cpu/mem-loads,period=2000/P   \n",
       "2738862     48  0.999992    2000   cpu/mem-loads,period=2000/P   \n",
       "\n",
       "                         virt          phys  latency  \\\n",
       "1        18446625616529871456  104318784096        0   \n",
       "2        18446625719432970792  207221883432        7   \n",
       "3        18446625719432970760  207221883400        0   \n",
       "4        18446625616703321824  104492234464        0   \n",
       "5        18446625616538624048  104327536688        0   \n",
       "...                       ...           ...      ...   \n",
       "2738839       140718740052280    6483548472       39   \n",
       "2738843       140718739015752  106341713992        0   \n",
       "2738846       140719629723620    8894736356        8   \n",
       "2738848       140718965298808  105099859576       98   \n",
       "2738862       140718740423224    5996249656       35   \n",
       "\n",
       "                       cache_result  cpu_node  memory_node  \n",
       "1                 LVL L1 or N/A hit         1            1  \n",
       "2                  LVL L1 or L1 hit         1            1  \n",
       "3                 LVL L1 or N/A hit         1            1  \n",
       "4                 LVL L1 or N/A hit         1            1  \n",
       "5                 LVL L1 or N/A hit         1            1  \n",
       "...                             ...       ...          ...  \n",
       "2738839            LVL L2 or L2 hit         0            0  \n",
       "2738843          LVL L1 or N/A miss         1            1  \n",
       "2738846            LVL L1 or L1 hit         1            0  \n",
       "2738848  LVL LFB/MAB or LFB/MAB hit         1            1  \n",
       "2738862            LVL L2 or L2 hit         0            0  \n",
       "\n",
       "[2295371 rows x 10 columns]"
      ]
     },
     "execution_count": 34,
     "metadata": {},
     "output_type": "execute_result"
    }
   ],
   "source": [
    "# load_store_df = events_df.loc[events_df['event'].str.contains(\"cpu/\")]\n",
    "# load_store_df.sort_values(\"time\")\n",
    "\n",
    "# load_store_df = filter_in_bounds(load_store_df, [0.0, 1.0], \"time\")\n",
    "load_store_df"
   ]
  },
  {
   "cell_type": "code",
   "execution_count": 29,
   "metadata": {},
   "outputs": [],
   "source": [
    "def plot_access_locality_over_time(dfs: List[pd.DataFrame], labels: list[str], min_t: Optional[float] = None, max_t: Optional[float] = None, bins = 500):\n",
    "    if len(dfs) != len(labels):\n",
    "        raise Exception(\"label and dfs parameters need to have the same length\")\n",
    "    \n",
    "    overall_min_t = min([df['time'].min() for df in dfs])\n",
    "    overall_max_t = max([df['time'].max() for df in dfs])\n",
    "    should_filter = min_t is not None or max_t is not None\n",
    "    if min_t is None:\n",
    "        min_t = overall_min_t\n",
    "    if max_t is None:\n",
    "        max_t = overall_max_t\n",
    "    if should_filter:\n",
    "        dfs = [filter_in_bounds(df, (min_t, max_t), \"time\") for df in dfs]\n",
    "    \n",
    "    intervals = np.linspace(min_t, max_t, bins + 1)\n",
    "    interval_width = intervals[1] - intervals[0]\n",
    "    \n",
    "    agg_locality = []\n",
    "    agg_count = []\n",
    "    agg_interval = []\n",
    "    \n",
    "    for df in dfs:\n",
    "        local_percents = []\n",
    "        bin_count = []\n",
    "        curr_intervals = []\n",
    "        for i in range(len(intervals) - 1):\n",
    "            curr_df = df.loc[(df['time'] >= intervals[i]) & (df['time'] < intervals[i + 1])]\n",
    "            if len(curr_df) == 0:\n",
    "                continue\n",
    "            local_percents.append(local_access_proportion(curr_df))\n",
    "            bin_count.append(len(curr_df))\n",
    "            curr_intervals.append(intervals[i])\n",
    "        agg_locality.append(local_percents)\n",
    "        agg_count.append(bin_count)\n",
    "        agg_interval.append(curr_intervals)\n",
    "\n",
    "    plt.minorticks_on()\n",
    "    plt.gcf().set_size_inches(15, 7)\n",
    "    plt.grid(which=\"both\", axis=\"y\")\n",
    "    plt.ylim(bottom = 0, top = 100)\n",
    "    for loc, inter, label in zip(agg_locality, agg_interval, labels):\n",
    "        plt.plot(inter, loc, label=label)\n",
    "    plt.title(f\"Proportion of local / total memory accesses, aggregated every {'{:.3f}'.format(interval_width * 1000)} ms\")\n",
    "    plt.legend(loc=\"best\")\n",
    "    plt.show()\n",
    "\n",
    "    # plt.minorticks_on()\n",
    "    # plt.gcf().set_size_inches(15, 7)\n",
    "    # plt.grid(which=\"both\", axis=\"y\")\n",
    "    # plt.plot(intervals[:-1], sums)\n",
    "    # plt.show()\n",
    "    \n",
    "            \n",
    "    "
   ]
  },
  {
   "cell_type": "code",
   "execution_count": 28,
   "metadata": {},
   "outputs": [
    {
     "data": {
      "image/png": "[encoded data removed]",
      "text/plain": [
       "<Figure size 1500x700 with 1 Axes>"
      ]
     },
     "metadata": {},
     "output_type": "display_data"
    }
   ],
   "source": [
    "plot_access_locality_over_time([sock_df, seq_df], [\"sockorder\", \"sequential\"], min_t=0.0, max_t=1.5)"
   ]
  },
  {
   "cell_type": "markdown",
   "metadata": {},
   "source": [
    "### Event counts per CPU"
   ]
  },
  {
   "cell_type": "code",
   "execution_count": 43,
   "metadata": {},
   "outputs": [],
   "source": [
    "def plot_event_count_per_cpu(df: pd.DataFrame, event: str) :\n",
    "    filtered_df = df.loc[df['event'] == event]\n",
    "    # cpu_sorted = [i for i in range(64) if i % 2 == 0] + [i for i in range(64) if i % 2 == 1]\n",
    "    cpu_remote_l3_loads = [filtered_df.loc[filtered_df['cpuid'] == cpuid]['period'].sum() for cpuid in range(64)] \n",
    "\n",
    "    bars = plt.bar(range(len(cpu_remote_l3_loads)), cpu_remote_l3_loads, width=0.8)\n",
    "    for item in bars[::2]:\n",
    "        item.set_color('tab:orange')\n",
    "    plt.ylim(0, max(cpu_remote_l3_loads) * 1.1)\n",
    "    plt.xticks([i for i in range(65) if i % 2 == 0])\n",
    "    plt.minorticks_on()\n",
    "    plt.gcf().set_size_inches(15, 8)\n",
    "    plt.tick_params(axis='x', which='minor', bottom=False)\n",
    "    plt.title(f\"Number {event} events per core\\nTotal \" + '{:.4e}'.format(sum(cpu_remote_l3_loads)) + \"\")\n",
    "    plt.show()"
   ]
  },
  {
   "cell_type": "code",
   "execution_count": 31,
   "metadata": {},
   "outputs": [
    {
     "data": {
      "text/plain": [
       "64"
      ]
     },
     "execution_count": 31,
     "metadata": {},
     "output_type": "execute_result"
    }
   ],
   "source": [
    "len(sock_df['cpuid'].unique())"
   ]
  },
  {
   "cell_type": "code",
   "execution_count": 38,
   "metadata": {},
   "outputs": [
    {
     "data": {
      "text/plain": [
       "cpuid\n",
       "0     102107950\n",
       "1     110863800\n",
       "2     100417600\n",
       "3     110609300\n",
       "4     101917800\n",
       "        ...    \n",
       "59    120005350\n",
       "60    111703550\n",
       "61    121333200\n",
       "62    119748000\n",
       "63    118905300\n",
       "Name: period, Length: 64, dtype: int64"
      ]
     },
     "execution_count": 38,
     "metadata": {},
     "output_type": "execute_result"
    }
   ],
   "source": [
    "sock_df.groupby('cpuid')['period'].sum()"
   ]
  },
  {
   "cell_type": "code",
   "execution_count": 46,
   "metadata": {},
   "outputs": [
    {
     "data": {
      "text/plain": [
       "event\n",
       "cpu/mem-stores,period=2000/P              2479812\n",
       "cpu/mem-loads,period=2000/P               1047577\n",
       "mem_load_l3_miss_retired.remote_hitm:P     488043\n",
       "mem_load_l3_miss_retired.remote_fwd:P      461683\n",
       "mem_load_l3_miss_retired.remote_dram:P     192214\n",
       "Name: count, dtype: int64"
      ]
     },
     "execution_count": 46,
     "metadata": {},
     "output_type": "execute_result"
    }
   ],
   "source": [
    "sock_df['event'].value_counts()"
   ]
  },
  {
   "cell_type": "code",
   "execution_count": 56,
   "metadata": {},
   "outputs": [],
   "source": [
    "def plot_event_count_per_cpu(dfs: List[pd.DataFrame], names: List[str], event: str) :\n",
    "    dfs = [df.loc[df['event'] == event] for df in dfs]\n",
    "    dfs = [df.groupby('cpuid')['period'].sum().reset_index() for df in dfs]\n",
    "    \n",
    "    for df, name in zip(dfs, names):\n",
    "        df['source'] = name\n",
    "        \n",
    "    combined_df = pd.concat(dfs)\n",
    "        \n",
    "    plt.figure(figsize=(10, 6))\n",
    "    sns.barplot(x='cpuid', y='period', hue='source', data=combined_df)\n",
    "\n",
    "    # Add labels and title\n",
    "    plt.xlabel('CPU')\n",
    "    plt.ylabel('Sum of Events')\n",
    "    plt.title('Sum of Events per CPU')\n",
    "    plt.show()\n",
    "    "
   ]
  },
  {
   "cell_type": "code",
   "execution_count": 57,
   "metadata": {},
   "outputs": [
    {
     "name": "stdout",
     "output_type": "stream",
     "text": [
      "[    cpuid   period     source\n",
      "0       0    17550  sockorder\n",
      "1       1    18600  sockorder\n",
      "2       2     4150  sockorder\n",
      "3       3    18350  sockorder\n",
      "4       4    11050  sockorder\n",
      "..    ...      ...        ...\n",
      "59     59    17100  sockorder\n",
      "60     60      700  sockorder\n",
      "61     61    14350  sockorder\n",
      "62     62  9131450  sockorder\n",
      "63     63    18450  sockorder\n",
      "\n",
      "[64 rows x 3 columns],     cpuid    period      source\n",
      "0       0   2200950  sequential\n",
      "1       1   4399200  sequential\n",
      "2       2   6271350  sequential\n",
      "3       3   8346400  sequential\n",
      "4       4  10499350  sequential\n",
      "..    ...       ...         ...\n",
      "59     59   4041150  sequential\n",
      "60     60   6649700  sequential\n",
      "61     61   8240900  sequential\n",
      "62     62  10703500  sequential\n",
      "63     63     95650  sequential\n",
      "\n",
      "[64 rows x 3 columns]]\n"
     ]
    },
    {
     "data": {
      "image/png": "[encoded data removed]",
      "text/plain": [
       "<Figure size 640x480 with 1 Axes>"
      ]
     },
     "metadata": {},
     "output_type": "display_data"
    }
   ],
   "source": [
    "plot_event_count_per_cpu([sock_df, seq_df], [\"sockorder\", \"sequential\"], \"mem_load_l3_miss_retired.remote_dram:P\")"
   ]
  },
  {
   "cell_type": "code",
   "execution_count": 35,
   "metadata": {},
   "outputs": [],
   "source": [
    "configs_colors = [\"tab:blue\", \"tab:orange\"]\n",
    "\n",
    "# TODO Sort by node but still have the correct cpuid\n",
    "def plot_event_count_per_cpu(dfs: List[pd.DataFrame], event: str) :\n",
    "    dfs = [df.loc[df['event'] == event] for df in dfs]\n",
    "    # cpu_sorted = [i for i in range(64) if i % 2 == 0] + [i for i in range(64) if i % 2 == 1]\n",
    "    # cpu_remote_l3_loads = [filtered_df.loc[filtered_df['cpuid'] == cpuid]['period'].sum() for cpuid in range(64)]\n",
    "    \n",
    "    \n",
    "    # total_width : float, optional, default: 0.8\n",
    "    #     The width of a bar group. 0.8 means that 80% of the x-axis is covered\n",
    "    #     by bars and 20% will be spaces between the bars.\n",
    "\n",
    "    # single_width: float, optional, default: 1\n",
    "    #     The relative width of a single bar within a group. 1 means the bars\n",
    "    #     will touch eachother within a group, values less than 1 will make\n",
    "    #     these bars thinner.\n",
    "    \n",
    "    total_width = 0.8\n",
    "    single_width = 1\n",
    "    \n",
    "    # Number of bars per group\n",
    "    n_bars = len(dfs)\n",
    "    \n",
    "    # The width of a single bar\n",
    "    bar_width = total_width / n_bars\n",
    "    \n",
    "    for i, df in enumerate(dfs):\n",
    "        n_cpus = len(df['cpuid'].unique())\n",
    "        n_events_per_cpu = [df.loc[df['cpuid'] == cpuid]['period'].sum() for cpuid in range(n_cpus)]\n",
    "\n",
    "        # List containing handles for the drawn bars, used for the legend\n",
    "        bars = []\n",
    "        \n",
    "        # The offset in x direction of that bar\n",
    "        x_offset = (i - n_bars / 2) * bar_width + bar_width / 2\n",
    "        \n",
    "        # Draw a bar for every value of that type\n",
    "        for x, y in enumerate(n_events_per_cpu):\n",
    "            bar = plt.bar(x + x_offset, y, width=bar_width * single_width, color=configs_colors[i % len(configs_colors)])\n",
    "\n",
    "        # Add a handle to the last drawn bar, which we'll need for the legend\n",
    "        bars.append(bar[0])\n",
    "        \n",
    "    # if legend:\n",
    "    #     ax.legend(bars, data.keys())\n",
    "\n",
    "#         bars = plt.bar(range(len(cpu_remote_l3_loads)), cpu_remote_l3_loads, width=0.8)\n",
    "#         for item in bars[::2]:\n",
    "#             item.set_color('tab:orange')\n",
    "#         plt.ylim(0, max(cpu_remote_l3_loads) * 1.1)\n",
    "#         plt.xticks([i for i in range(65) if i % 2 == 0])\n",
    "#         plt.minorticks_on()\n",
    "#         plt.gcf().set_size_inches(15, 8)\n",
    "#         plt.tick_params(axis='x', which='minor', bottom=False)\n",
    "#         plt.title(f\"Number {event} events per core\\nTotal \" + '{:.4e}'.format(sum(cpu_remote_l3_loads)) + \"\")\n",
    "#         plt.show()\n",
    "\n",
    "# ax = plt.subplot(111)\n",
    "# w = 0.3\n",
    "# ax.bar(x-w, y, width=w, color='b', align='center')\n",
    "# ax.bar(x, z, width=w, color='g', align='center')\n",
    "# ax.bar(x+w, k, width=w, color='r', align='center')\n",
    "# ax.xaxis_date()\n",
    "# ax.autoscale(tight=True)"
   ]
  },
  {
   "cell_type": "code",
   "execution_count": 36,
   "metadata": {},
   "outputs": [
    {
     "data": {
      "image/png": "[encoded data removed]",
      "text/plain": [
       "<Figure size 640x480 with 1 Axes>"
      ]
     },
     "metadata": {},
     "output_type": "display_data"
    }
   ],
   "source": [
    "plot_event_count_per_cpu([sock_df, seq_df], \"mem_load_l3_miss_retired.remote_dram:P\")"
   ]
  },
  {
   "cell_type": "code",
   "execution_count": 33,
   "metadata": {},
   "outputs": [
    {
     "ename": "NameError",
     "evalue": "name 'events_df' is not defined",
     "output_type": "error",
     "traceback": [
      "\u001b[0;31m---------------------------------------------------------------------------\u001b[0m",
      "\u001b[0;31mNameError\u001b[0m                                 Traceback (most recent call last)",
      "Cell \u001b[0;32mIn[33], line 1\u001b[0m\n\u001b[0;32m----> 1\u001b[0m \u001b[38;5;28mprint\u001b[39m(\u001b[43mevents_df\u001b[49m[\u001b[38;5;124m'\u001b[39m\u001b[38;5;124mevent\u001b[39m\u001b[38;5;124m'\u001b[39m]\u001b[38;5;241m.\u001b[39munique())\n\u001b[1;32m      2\u001b[0m \u001b[38;5;28;01mfor\u001b[39;00m event \u001b[38;5;129;01min\u001b[39;00m events_df[\u001b[38;5;124m'\u001b[39m\u001b[38;5;124mevent\u001b[39m\u001b[38;5;124m'\u001b[39m]\u001b[38;5;241m.\u001b[39munique() :\n\u001b[1;32m      3\u001b[0m     plot_event_count_per_cpu(events_df, event)\n",
      "\u001b[0;31mNameError\u001b[0m: name 'events_df' is not defined"
     ]
    }
   ],
   "source": [
    "print(events_df['event'].unique())\n",
    "for event in events_df['event'].unique() :\n",
    "    plot_event_count_per_cpu(events_df, event)"
   ]
  },
  {
   "cell_type": "markdown",
   "metadata": {},
   "source": [
    "## Address space"
   ]
  },
  {
   "cell_type": "markdown",
   "metadata": {},
   "source": [
    "### Vizualization"
   ]
  },
  {
   "cell_type": "code",
   "execution_count": 45,
   "metadata": {},
   "outputs": [],
   "source": [
    "def relative_to_bounds(bounds: Tuple[int, int], relative_range = 1000):\n",
    "    min_range = events_df['phys'].min()\n",
    "    max_range = events_df['phys'].max()\n",
    "    range = max_range - min_range\n",
    "    return int((bounds[0] / relative_range) * range), int((bounds[1] / relative_range) * range)\n",
    "\n",
    "def bounds_to_relative(bounds: Tuple[int, int], relative_range = 1000):\n",
    "    min_range = events_df['phys'].min()\n",
    "    max_range = events_df['phys'].max()\n",
    "    range = max_range - min_range\n",
    "    return (bounds[0] * relative_range) / range, (bounds[1] * relative_range) / range"
   ]
  },
  {
   "cell_type": "code",
   "execution_count": null,
   "metadata": {},
   "outputs": [],
   "source": [
    "phys_clusters_alt = grouping.get_groups(events_df['phys'].to_numpy(), 1e9, 1)\n",
    "for i, cluster in enumerate(phys_clusters_alt):\n",
    "    print_cluster_info(i, cluster)"
   ]
  },
  {
   "cell_type": "code",
   "execution_count": null,
   "metadata": {},
   "outputs": [],
   "source": [
    "phys_clusters = get_cluster_bounds(events_df['phys'].to_numpy(), 1e9, 1)"
   ]
  },
  {
   "cell_type": "code",
   "execution_count": null,
   "metadata": {},
   "outputs": [],
   "source": [
    "for i, cluster in enumerate(phys_clusters):\n",
    "    print_cluster_info(i, cluster)"
   ]
  },
  {
   "cell_type": "markdown",
   "metadata": {},
   "source": [
    "Cluster 4 -- bounds : (7354191872, 8279554920), size : 9.254e+08, total events : 267179\n",
    "Cluster 5 -- bounds : (8279555848, 8977907704), size : 6.984e+08, total events : 839893\n",
    "\n",
    "Cluster 4 -- bounds : (7354191872, 8279555848), size : 9.254e+08, total events : 267180\n",
    "Cluster 5 -- bounds : (8615100568, 9609760752), size : 9.947e+08, total events : 1366011\n"
   ]
  },
  {
   "cell_type": "markdown",
   "metadata": {},
   "source": [
    "We are actually doing 2 level clustering in order to see a bit better the clusters :\n",
    "1) Compute large clusters so as to have like 4 or 5\n",
    "2) Within each of those clusters, compute the desired size clusters"
   ]
  },
  {
   "cell_type": "code",
   "execution_count": 47,
   "metadata": {},
   "outputs": [
    {
     "name": "stdout",
     "output_type": "stream",
     "text": [
      "Group 0 -- bounds : (4295331896, 33330797632), width : 2.904e+10, size : 2159472\n",
      "Group 1 -- bounds : (102552395776, 107191724672), width : 4.639e+09, size : 1916562\n",
      "Group 2 -- bounds : (207134887224, 207232165968), width : 9.728e+07, size : 2665\n"
     ]
    }
   ],
   "source": [
    "events_physical_addresses = events_df['phys'].to_numpy()\n",
    "outer_groups = get_groups(events_physical_addresses, 3e10, 1000)\n",
    "print_groups(outer_groups)"
   ]
  },
  {
   "cell_type": "code",
   "execution_count": null,
   "metadata": {},
   "outputs": [],
   "source": [
    "inner_df = extract_group(events_df, outer_groups[0], variable=\"phys\").sort_values(\"phys\").reset_index(drop=True)\n",
    "# inner_df.reset_index(drop=True)\n",
    "inner_df"
   ]
  },
  {
   "cell_type": "code",
   "execution_count": 1,
   "metadata": {},
   "outputs": [
    {
     "ename": "NameError",
     "evalue": "name 'plt' is not defined",
     "output_type": "error",
     "traceback": [
      "\u001b[0;31m---------------------------------------------------------------------------\u001b[0m",
      "\u001b[0;31mNameError\u001b[0m                                 Traceback (most recent call last)",
      "Cell \u001b[0;32mIn[1], line 1\u001b[0m\n\u001b[0;32m----> 1\u001b[0m fig, axs \u001b[38;5;241m=\u001b[39m \u001b[43mplt\u001b[49m\u001b[38;5;241m.\u001b[39msubplots(\u001b[38;5;241m1\u001b[39m, \u001b[38;5;28mlen\u001b[39m(outer_groups), figsize\u001b[38;5;241m=\u001b[39m(\u001b[38;5;241m20\u001b[39m, \u001b[38;5;241m20\u001b[39m))\n\u001b[1;32m      3\u001b[0m \u001b[38;5;28;01mfor\u001b[39;00m i, og \u001b[38;5;129;01min\u001b[39;00m \u001b[38;5;28menumerate\u001b[39m(outer_groups):\n\u001b[1;32m      4\u001b[0m     inner_df \u001b[38;5;241m=\u001b[39m extract_group(events_df, og, variable\u001b[38;5;241m=\u001b[39m\u001b[38;5;124m\"\u001b[39m\u001b[38;5;124mphys\u001b[39m\u001b[38;5;124m\"\u001b[39m)\u001b[38;5;241m.\u001b[39msort_values(\u001b[38;5;124m\"\u001b[39m\u001b[38;5;124mphys\u001b[39m\u001b[38;5;124m\"\u001b[39m)\u001b[38;5;241m.\u001b[39mreset_index(drop\u001b[38;5;241m=\u001b[39m\u001b[38;5;28;01mTrue\u001b[39;00m)\n",
      "\u001b[0;31mNameError\u001b[0m: name 'plt' is not defined"
     ]
    }
   ],
   "source": [
    "fig, axs = plt.subplots(1, len(outer_groups), figsize=(20, 20))\n",
    "\n",
    "for i, og in enumerate(outer_groups):\n",
    "    inner_df = extract_group(events_df, og, variable=\"phys\").sort_values(\"phys\").reset_index(drop=True)\n",
    "    # sorted_local_physaddr = np.sort(extract_group(events_physical_addresses, og))\n",
    "    sorted_local_physaddr = inner_df[\"phys\"].to_numpy()\n",
    "    inner_groups = get_groups(sorted_local_physaddr, 1e7, 1000)\n",
    "    # print_groups(inner_groups)\n",
    "    \n",
    "    axs[i].plot(range(len(sorted_local_physaddr)), sorted_local_physaddr)\n",
    "    for cluster in inner_groups :\n",
    "        axs[i].axhline(y=cluster[0], color='g', linestyle='--', linewidth=0.2)\n",
    "        axs[i].axhline(y=cluster[1], color='g', linestyle='--', linewidth=0.2)\n",
    "        \n",
    "    relative_bounds = bounds_to_relative(og, relative_range=100)\n",
    "    axs[i].set_title(f\"{'{:.2f}'.format(relative_bounds[0])} - {'{:.2f}'.format(relative_bounds[1])} % of entire address space\")\n",
    "    \n",
    "    l3_miss_dram_df = inner_df.loc[inner_df['event'] == \"mem_load_l3_miss_retired.remote_dram:P\"]\n",
    "    l3_miss_fwd_df = inner_df.loc[inner_df['event'] == \"mem_load_l3_miss_retired.remote_fwd:P\"]\n",
    "    l3_miss_hitm_df = inner_df.loc[inner_df['event'] == \"mem_load_l3_miss_retired.remote_hitm:P\"]\n",
    "    \n",
    "    if len(l3_miss_dram_df) > 0:\n",
    "        axs[i].scatter(l3_miss_dram_df.index, l3_miss_dram_df['phys'], label=\"l3 miss remote dram\", color='r', s=4, alpha=0.5, zorder=3)\n",
    "    if len(l3_miss_fwd_df) > 0:\n",
    "        axs[i].scatter(l3_miss_fwd_df.index, l3_miss_fwd_df['phys'], label=\"l3 miss remote fwd\", color='tab:orange', s=4, alpha=0.5, zorder=4)\n",
    "    if len(l3_miss_hitm_df) > 0:\n",
    "        axs[i].scatter(l3_miss_hitm_df.index, l3_miss_hitm_df['phys'], label=\"l3 miss remote hitm\", color='tab:pink', s=4, alpha=0.5, zorder=5)\n",
    "    \n",
    "    # for event in inner_df['event'].unique() :\n",
    "    #     if \"l3_miss_retired.remote_dram\" not in event:\n",
    "    #         continue\n",
    "    #     # plot_event_count_per_cpu(events_df_sorted_phys, event)\n",
    "    #     filtered_df = events_df_sorted_phys.loc[events_df_sorted_phys['event'] == event]\n",
    "    #     plt.scatter(filtered_df.index, filtered_df['phys'], label=event, c='r', s=2, alpha=0.8, zorder=10)\n",
    "\n",
    "    # # plt.scatter(l3_remote_df.index, l3_remote_df['phys'], s=2, color='r', alpha=0.1)\n",
    "\n",
    "    # plt.axhline(y=NODE_1_PHYS_ADDR_START, color='r', linestyle='--', linewidth=0.8)\n",
    "    # plt.gcf().set_size_inches(10, 15)\n",
    "    # plt.title(\"Physical addresses ordered\")\n",
    "    # plt.legend(title='Cache Result', loc=\"best\")\n",
    "plt.show()\n",
    "    \n",
    "    "
   ]
  },
  {
   "cell_type": "code",
   "execution_count": null,
   "metadata": {},
   "outputs": [],
   "source": [
    "# print(len(events_df))\n",
    "phys_groups = get_groups(events_df['phys'].to_numpy(), 1e9, 4000)\n",
    "\n",
    "events_df_sorted_phys = events_df.sort_values('phys', ignore_index=True)\n",
    "\n",
    "plt.plot(events_df_sorted_phys.index, events_df_sorted_phys['phys'])\n",
    "for cluster in phys_groups :\n",
    "    plt.axhline(y=cluster[0], color='g', linestyle='--', linewidth=0.2)\n",
    "    plt.axhline(y=cluster[1], color='g', linestyle='--', linewidth=0.2)\n",
    "    \n",
    "for event in events_df_sorted_phys['event'].unique() :\n",
    "    if \"l3_miss_retired.remote_dram\" not in event:\n",
    "        continue\n",
    "    # plot_event_count_per_cpu(events_df_sorted_phys, event)\n",
    "    filtered_df = events_df_sorted_phys.loc[events_df_sorted_phys['event'] == event]\n",
    "    plt.scatter(filtered_df.index, filtered_df['phys'], label=event, c='r', s=2, alpha=0.8, zorder=10)\n",
    "\n",
    "# plt.scatter(l3_remote_df.index, l3_remote_df['phys'], s=2, color='r', alpha=0.1)\n",
    "\n",
    "plt.axhline(y=NODE_1_PHYS_ADDR_START, color='r', linestyle='--', linewidth=0.8)\n",
    "plt.gcf().set_size_inches(20, 20)\n",
    "plt.title(\"Physical addresses ordered\")\n",
    "plt.legend(title='Cache Result', loc=\"best\")\n",
    "plt.show()\n",
    "\n",
    "# events_df_sorted_phys"
   ]
  },
  {
   "cell_type": "markdown",
   "metadata": {},
   "source": [
    "### Clustering"
   ]
  },
  {
   "cell_type": "code",
   "execution_count": null,
   "metadata": {},
   "outputs": [],
   "source": [
    "def get_stats_for_event_in_cluster(df: pd.DataFrame, cluster: tuple, event: str):\n",
    "    bounded_subset = filter_in_bounds(df, 'phys', cluster)\n",
    "    event_subset = bounded_subset.loc[bounded_subset['event'] == event]\n",
    "    if len(event_subset) == 0 :\n",
    "        return None\n",
    "    cpuids = event_subset['cpuid'].unique()\n",
    "    count_per_cpu: List[Tuple[int, int]] = []\n",
    "    for cid in cpuids:\n",
    "        number = (event_subset['cpuid'] == cid).sum()\n",
    "        count_per_cpu.append((number, cid))\n",
    "    # display(event_subset)\n",
    "    return (cluster[0], cluster[1], len(event_subset), sorted(count_per_cpu, reverse=True))\n",
    "\n",
    "def print_cluster_info(name, cluster: Tuple[int, int, int]):\n",
    "    print(f\"Cluster {name} -- bounds : {cluster[0], cluster[1]}, size : {'{:.3e}'.format(cluster[1] - cluster[0])}, total events : {cluster[2]}\")\n",
    "\n",
    "def get_clusters_that_contain_event(df: pd.DataFrame, clusters: list, event: str):\n",
    "    # clusters could be converted to named tuple\n",
    "    res = []\n",
    "    for cluster in clusters:\n",
    "        bounded_subset = filter_in_bounds(df, 'phys', cluster)\n",
    "        event_subset = bounded_subset.loc[bounded_subset['event'] == event]\n",
    "        if len(event_subset) > 0 :\n",
    "            cpuids = event_subset['cpuid'].unique()\n",
    "            count_per_cpu: List[Tuple[int, int]] = []\n",
    "            for cid in cpuids:\n",
    "                number = (event_subset['cpuid'] == cid).sum()\n",
    "                count_per_cpu.append((number, cid))\n",
    "            # display(event_subset)\n",
    "            res.append((cluster[0], cluster[1], len(event_subset), sorted(count_per_cpu, reverse=True)))\n",
    "    return sorted(res, reverse=True, key=lambda x: x[2])\n",
    "\n",
    "\n",
    "def merge_clusters(clusters: list):\n",
    "    starts = [c[0] for c in clusters]\n",
    "    ends = [c[1] for c in clusters]\n",
    "    return (min(starts), max(ends))"
   ]
  },
  {
   "cell_type": "code",
   "execution_count": null,
   "metadata": {},
   "outputs": [],
   "source": [
    "clusters_for_event = get_clusters_that_contain_event(events_df, phys_clusters, \"mem_load_l3_miss_retired.remote_dram:P\")\n",
    "for i, cluster in enumerate(clusters_for_event) :\n",
    "    print(f\"Cluster {i} -- bounds : {cluster[0], cluster[1]}, size : {'{:.3e}'.format(cluster[1] - cluster[0])}, total events : {cluster[2]}, list of (n events on cpu, cpu) : {cluster[3]}\")\n",
    "    if i > 20:\n",
    "        break"
   ]
  },
  {
   "cell_type": "code",
   "execution_count": null,
   "metadata": {},
   "outputs": [],
   "source": [
    "def plotmem(df: pd.DataFrame, column: str = 'phys', cpuid = [], exclude_cpuid = [], min_t = None, max_t = None, w = 60, h = 30, dot_size = 10) :\n",
    "    cpu_df = df.loc[df['cpuid'].isin(cpuid)] if cpuid else df\n",
    "    cpu_df = df.loc[~df['cpuid'].isin(exclude_cpuid)] if exclude_cpuid else cpu_df\n",
    "    bounded_df = cpu_df\n",
    "    \n",
    "    if max_t is not None :\n",
    "        if min_t is None :\n",
    "            min_t = 0.0\n",
    "        bounded_df = filter_in_bounds(bounded_df, 'time', (min_t, max_t))\n",
    "    \n",
    "    loads_df = bounded_df.loc[bounded_df['event'] == \"cpu/mem-loads/P\"]\n",
    "    stores_df = bounded_df.loc[bounded_df['event'] == \"cpu/mem-stores/P\"]\n",
    "    l3_miss_dram_df = bounded_df.loc[bounded_df['event'] == \"mem_load_l3_miss_retired.remote_dram:P\"]\n",
    "    l3_miss_fwd_df = bounded_df.loc[bounded_df['event'] == \"mem_load_l3_miss_retired.remote_fwd:P\"]\n",
    "    l3_miss_hitm_df = bounded_df.loc[bounded_df['event'] == \"mem_load_l3_miss_retired.remote_hitm:P\"]\n",
    "    \n",
    "    plt.gcf().set_size_inches(w, h)\n",
    "    plt.scatter(loads_df['time'], loads_df[column], label=\"Memory loads\", color='tab:green', s=dot_size, alpha=0.3, zorder=1)\n",
    "    plt.scatter(stores_df['time'], stores_df[column], label=\"Memory stores\", color='tab:blue', s=dot_size, alpha=0.3, zorder=2)\n",
    "    if len(l3_miss_dram_df) > 0:\n",
    "        plt.scatter(l3_miss_dram_df['time'], l3_miss_dram_df[column], label=\"l3 miss remote dram\", color='r', s=dot_size, alpha=0.5, zorder=3)\n",
    "    if len(l3_miss_fwd_df) > 0:\n",
    "        plt.scatter(l3_miss_fwd_df['time'], l3_miss_fwd_df[column], label=\"l3 miss remote fwd\", color='tab:orange', s=dot_size, alpha=0.5, zorder=4)\n",
    "    if len(l3_miss_hitm_df) > 0:\n",
    "        plt.scatter(l3_miss_hitm_df['time'], l3_miss_hitm_df[column], label=\"l3 miss remote hitm\", color='tab:pink', s=dot_size, alpha=0.5, zorder=5)\n",
    "    \n",
    "    # TODO Plot the other types of L3 miss with different color like orange and purple\n",
    "    # plt.scatter(l3_miss_remote_df['time'], l3_miss_remote_df['phys'], label=\"l3 miss remote dram\", color='r', s=3, alpha=0.5, zorder=10)\n",
    "    \n",
    "    cpuids = bounded_df['cpuid'].unique()\n",
    "    for cid in cpuids :\n",
    "        curr_df = bounded_df.loc[bounded_df['cpuid'] == cid]\n",
    "        plt.plot(curr_df['time'], curr_df[column], label=f\"CPU {cid}\", linestyle='--', linewidth=0.4, alpha=0.5)\n",
    "        \n",
    "    plt.minorticks_on()\n",
    "    plt.grid(axis=\"y\", which=\"both\")\n",
    "    plt.grid(axis=\"x\", which=\"major\")\n",
    "    plt.xlabel('Time')\n",
    "    plt.ylabel('Phys')\n",
    "    plt.title('Scatter Plot of Time vs Phys with Cache Results Colored')\n",
    "    plt.legend(title='Cache Result', loc='upper right')\n",
    "    plt.show()"
   ]
  },
  {
   "cell_type": "code",
   "execution_count": null,
   "metadata": {},
   "outputs": [],
   "source": [
    "# 'cpu/mem-loads/P' 'cpu/mem-stores/P'\n",
    "#  'mem_load_l3_miss_retired.local_dram:P'\n",
    "#  'mem_load_l3_miss_retired.remote_dram:P'\n",
    "#  'mem_load_l3_miss_retired.remote_hitm:P'\n",
    "#  'mem_load_l3_miss_retired.remote_fwd:P']\n",
    "\n",
    "def plot_phys(df: pd.DataFrame, phys_bounds: tuple, cpuid = [], exclude_cpuid = [], min_t = None, max_t = None, w = 60, h = 30, dot_size = 3) :\n",
    "    cpu_df = df.loc[df['cpuid'].isin(cpuid)] if cpuid else df\n",
    "    cpu_df = df.loc[~df['cpuid'].isin(exclude_cpuid)] if exclude_cpuid else cpu_df\n",
    "    bounded_df = filter_in_bounds(cpu_df, 'phys', phys_bounds)\n",
    "    \n",
    "    if max_t is not None :\n",
    "        if min_t is None :\n",
    "            min_t = 0.0\n",
    "        bounded_df = filter_in_bounds(bounded_df, 'time', (min_t, max_t))\n",
    "    \n",
    "    loads_df = bounded_df.loc[bounded_df['event'] == \"cpu/mem-loads/P\"]\n",
    "    stores_df = bounded_df.loc[bounded_df['event'] == \"cpu/mem-stores/P\"]\n",
    "    l3_miss_dram_df = bounded_df.loc[bounded_df['event'] == \"mem_load_l3_miss_retired.remote_dram:P\"]\n",
    "    l3_miss_fwd_df = bounded_df.loc[bounded_df['event'] == \"mem_load_l3_miss_retired.remote_fwd:P\"]\n",
    "    l3_miss_hitm_df = bounded_df.loc[bounded_df['event'] == \"mem_load_l3_miss_retired.remote_hitm:P\"]\n",
    "    \n",
    "    plt.gcf().set_size_inches(w, h)\n",
    "    plt.scatter(loads_df['time'], loads_df['phys'], label=\"Memory loads\", color='tab:green', s=dot_size, alpha=0.3, zorder=1)\n",
    "    plt.scatter(stores_df['time'], stores_df['phys'], label=\"Memory stores\", color='tab:blue', s=dot_size, alpha=0.3, zorder=2)\n",
    "    if len(l3_miss_dram_df) > 0:\n",
    "        plt.scatter(l3_miss_dram_df['time'], l3_miss_dram_df['phys'], label=\"l3 miss remote dram\", color='r', s=dot_size, alpha=0.5, zorder=3)\n",
    "    if len(l3_miss_fwd_df) > 0:\n",
    "        plt.scatter(l3_miss_fwd_df['time'], l3_miss_fwd_df['phys'], label=\"l3 miss remote fwd\", color='tab:orange', s=dot_size, alpha=0.5, zorder=4)\n",
    "    if len(l3_miss_hitm_df) > 0:\n",
    "        plt.scatter(l3_miss_hitm_df['time'], l3_miss_hitm_df['phys'], label=\"l3 miss remote hitm\", color='tab:pink', s=dot_size, alpha=0.5, zorder=5)\n",
    "    \n",
    "    # TODO Plot the other types of L3 miss with different color like orange and purple\n",
    "    # plt.scatter(l3_miss_remote_df['time'], l3_miss_remote_df['phys'], label=\"l3 miss remote dram\", color='r', s=3, alpha=0.5, zorder=10)\n",
    "    \n",
    "    cpuids = bounded_df['cpuid'].unique()\n",
    "    for cid in cpuids :\n",
    "        curr_df = bounded_df.loc[bounded_df['cpuid'] == cid]\n",
    "        plt.plot(curr_df['time'], curr_df['phys'], label=f\"CPU {cid}\", linestyle='--', linewidth=0.4, alpha=0.5)\n",
    "        \n",
    "        # break\n",
    "\n",
    "    # fig = plt.gcf()\n",
    "    # if width is None :\n",
    "    #     width = 28\n",
    "    # if height is None :\n",
    "    #     height = 12\n",
    "    # plt.gcf().set_size_inches(120, 60)\n",
    "    # plt.gcf().set_size_inches(60, 30)\n",
    "    plt.minorticks_on()\n",
    "    plt.grid(axis=\"y\", which=\"both\")\n",
    "    plt.grid(axis=\"x\", which=\"major\")\n",
    "    plt.xlabel('Time')\n",
    "    plt.ylabel('Phys')\n",
    "    plt.title('Scatter Plot of Time vs Phys with Cache Results Colored')\n",
    "    plt.legend(title='Cache Result', loc='upper right')\n",
    "    plt.show()"
   ]
  },
  {
   "cell_type": "code",
   "execution_count": null,
   "metadata": {},
   "outputs": [],
   "source": [
    "def relative_to_bounds(bounds: Tuple[int, int], relative_range = 1000):\n",
    "    min_range = events_df['phys'].min()\n",
    "    max_range = events_df['phys'].max()\n",
    "    range = max_range - min_range\n",
    "    return int((bounds[0] / 1000) * range), int((bounds[1] / 1000) * range)\n",
    "\n",
    "def bounds_to_relative(bounds: Tuple[int, int], relative_range = 1000):\n",
    "    min_range = events_df['phys'].min()\n",
    "    max_range = events_df['phys'].max()\n",
    "    range = max_range - min_range\n",
    "    return (bounds[0] * 1000) / range, (bounds[1] * 1000) / range"
   ]
  },
  {
   "cell_type": "code",
   "execution_count": null,
   "metadata": {},
   "outputs": [],
   "source": [
    "print(bounds_to_relative(clusters_for_event[8]))\n",
    "new_bounds = relative_to_bounds((48.3422, 50.4363))\n",
    "new_bounds"
   ]
  },
  {
   "cell_type": "code",
   "execution_count": null,
   "metadata": {},
   "outputs": [],
   "source": [
    "plot_phys(events_df, clusters_for_event[0], min_t=0.7, max_t=0.8, w = 30, h = 15, dot_size=30)"
   ]
  },
  {
   "cell_type": "code",
   "execution_count": null,
   "metadata": {},
   "outputs": [],
   "source": [
    "filtered_df = filter_in_bounds(events_df, \"phys\", clusters_for_event[0])\n",
    "filtered_df = filtered_df.loc[(filtered_df['cpuid'] == 4) & (filtered_df['event'] == \"mem_load_l3_miss_retired.remote_dram:P\")]\n",
    "\n",
    "filtered_clusters = get_cluster_bounds(filtered_df['phys'].to_numpy(), 1e6, 10)\n",
    "for i, cluster in enumerate(filtered_clusters) :\n",
    "    print_cluster_info(i, cluster)"
   ]
  },
  {
   "cell_type": "code",
   "execution_count": null,
   "metadata": {},
   "outputs": [],
   "source": [
    "plotmem(events_df, filtered_clusters[1], 'virt', max_t=0.8, w = 30, h = 15, dot_size=40)"
   ]
  },
  {
   "cell_type": "code",
   "execution_count": null,
   "metadata": {},
   "outputs": [],
   "source": [
    "plot_phys(events_df, filtered_clusters[1], max_t=0.8, w = 30, h = 15, dot_size=40)"
   ]
  },
  {
   "cell_type": "code",
   "execution_count": null,
   "metadata": {},
   "outputs": [],
   "source": [
    "plot_phys(events_df, (0, NODE_1_PHYS_ADDR_START), max_t=0.8, w = 30, h = 15, dot_size=40)"
   ]
  },
  {
   "cell_type": "code",
   "execution_count": null,
   "metadata": {},
   "outputs": [],
   "source": [
    "plot_phys(events_df, (0, 0.18 * 1e11), max_t=0.8, w = 30, h = 15, dot_size=40)"
   ]
  },
  {
   "cell_type": "code",
   "execution_count": null,
   "metadata": {},
   "outputs": [],
   "source": [
    "plot_phys(events_df, (NODE_1_PHYS_ADDR_START, 1.08 * 1e11), cpuid=[4], min_t=1.0, max_t=1.06, w = 30, h = 15, dot_size=40)"
   ]
  },
  {
   "cell_type": "code",
   "execution_count": null,
   "metadata": {},
   "outputs": [],
   "source": [
    "plotmem(events_df, (NODE_1_PHYS_ADDR_START, 1.08 * 1e11), column=\"virt\", cpuid=[4], min_t=1.0, max_t=1.06, w = 30, h = 15, dot_size=40)"
   ]
  },
  {
   "cell_type": "code",
   "execution_count": null,
   "metadata": {},
   "outputs": [],
   "source": [
    "plotmem(filter_in_bounds(events_df, \"virt\", (1.3 * 1e14, 1.5 * 1e14)), column=\"virt\", cpuid=[4], min_t=1.0, max_t=1.03, w = 30, h = 15, dot_size=40)"
   ]
  },
  {
   "cell_type": "code",
   "execution_count": null,
   "metadata": {},
   "outputs": [],
   "source": [
    "cpu4virt = events_df.loc[events_df['cpuid'] == 4][\"virt\"].to_numpy()\n",
    "vgroups4 = get_groups(cpu4virt, 1e9, 100)\n",
    "print_groups(vgroups4)"
   ]
  },
  {
   "cell_type": "code",
   "execution_count": null,
   "metadata": {},
   "outputs": [],
   "source": [
    "grouping.plot_group(cpu4virt, vgroups4[1])"
   ]
  },
  {
   "cell_type": "code",
   "execution_count": null,
   "metadata": {},
   "outputs": [],
   "source": [
    "vclusters4 = get_cluster_bounds(events_df.loc[events_df['cpuid'] == 4][\"virt\"], 1e9, 10)\n",
    "vclusters4"
   ]
  },
  {
   "cell_type": "code",
   "execution_count": null,
   "metadata": {},
   "outputs": [],
   "source": [
    "filtered_df = filter_in_bounds(events_df.loc[events_df['cpuid'] == 4], \"virt\", vclusters4[2])\n",
    "vaddresses = np.array(filtered_df[\"virt\"])\n",
    "vaddresses.sort()\n",
    "plt.plot(range(len(vaddresses)), vaddresses)"
   ]
  },
  {
   "cell_type": "code",
   "execution_count": null,
   "metadata": {},
   "outputs": [],
   "source": [
    "plotmem(events_df, (0, NODE_1_PHYS_ADDR_START), column=\"phys\", cpuid=[4], min_t=1.0, max_t=1.03, w = 30, h = 15, dot_size=40)"
   ]
  },
  {
   "cell_type": "code",
   "execution_count": null,
   "metadata": {},
   "outputs": [],
   "source": [
    "plotmem(filter_in_bounds(events_df, \"phys\", (NODE_1_PHYS_ADDR_START, 1.15 * 1e11)), column=\"phys\", cpuid=[4], min_t=1.0, max_t=1.03, w = 30, h = 15, dot_size=40)"
   ]
  },
  {
   "cell_type": "code",
   "execution_count": null,
   "metadata": {},
   "outputs": [],
   "source": [
    "plot_phys(events_df, (NODE_1_PHYS_ADDR_START, 1.07 * 1e11), cpuid=[26], min_t=1.0, max_t=1.06, w = 30, h = 15, dot_size=40)"
   ]
  },
  {
   "cell_type": "code",
   "execution_count": null,
   "metadata": {},
   "outputs": [],
   "source": []
  },
  {
   "cell_type": "code",
   "execution_count": null,
   "metadata": {},
   "outputs": [],
   "source": [
    "plot_phys(events_df, (NODE_1_PHYS_ADDR_START, 1.07 * 1e11), cpuid=[28], min_t=1.0, max_t=1.06, w = 30, h = 15, dot_size=40)"
   ]
  },
  {
   "cell_type": "code",
   "execution_count": null,
   "metadata": {},
   "outputs": [],
   "source": [
    "plot_phys(events_df, (NODE_1_PHYS_ADDR_START, 1.12 * 1e11), cpuid=[30], min_t=1.0, max_t=1.06, w = 30, h = 15, dot_size=40)"
   ]
  },
  {
   "cell_type": "code",
   "execution_count": null,
   "metadata": {},
   "outputs": [],
   "source": []
  },
  {
   "cell_type": "code",
   "execution_count": null,
   "metadata": {},
   "outputs": [],
   "source": [
    "plot_phys(events_df, (1.0048 * 1e10, 1.0054 * 1e10), min_t=0.7, max_t=0.9)"
   ]
  },
  {
   "cell_type": "code",
   "execution_count": null,
   "metadata": {},
   "outputs": [],
   "source": [
    "plot_phys(events_df, (1.0048 * 1e10, 1.0054 * 1e10), min_t=0.7, max_t=0.9)"
   ]
  },
  {
   "cell_type": "code",
   "execution_count": null,
   "metadata": {},
   "outputs": [],
   "source": [
    "plot_phys(events_df, (1.0072 * 1e10, 1.0074 * 1e10), min_t=0.7, max_t=0.9, cpuid=[30], w = 20, h = 10, dot_size=30)"
   ]
  },
  {
   "cell_type": "code",
   "execution_count": null,
   "metadata": {},
   "outputs": [],
   "source": [
    "plot_phys(events_df, (1.0072 * 1e10, 1.0074 * 1e10), cpuid=[30], w = 20, h = 10, dot_size=30)"
   ]
  },
  {
   "cell_type": "code",
   "execution_count": null,
   "metadata": {},
   "outputs": [],
   "source": [
    "get_stats_for_event_in_cluster(events_df, (1.0072 * 1e10, 1.0074 * 1e10), \"mem_load_l3_miss_retired.remote_fwd:P\")"
   ]
  },
  {
   "cell_type": "code",
   "execution_count": null,
   "metadata": {},
   "outputs": [],
   "source": [
    "plot_phys(events_df, merge_clusters(clusters_for_event[7:9]), min_t=0.8, max_t=0.9, cpuid=[47])"
   ]
  },
  {
   "cell_type": "code",
   "execution_count": null,
   "metadata": {},
   "outputs": [],
   "source": [
    "plot_phys(events_df, (5.54 * 1e9, 5.56 * 1e9), min_t=0.8, max_t=0.9, cpuid=[47])"
   ]
  },
  {
   "cell_type": "code",
   "execution_count": null,
   "metadata": {},
   "outputs": [],
   "source": [
    "print(bounds_to_relative((5.54 * 1e9, 5.56 * 1e9)))\n",
    "print(relative_to_bounds((26.7333, 26.8298)))"
   ]
  },
  {
   "cell_type": "code",
   "execution_count": null,
   "metadata": {},
   "outputs": [],
   "source": [
    "plot_phys(events_df, (5539999664, 5559997568), max_t=1.0, cpuid=[47])"
   ]
  },
  {
   "cell_type": "code",
   "execution_count": null,
   "metadata": {},
   "outputs": [],
   "source": [
    "-0.5 * 1e6 + 1.005e10"
   ]
  },
  {
   "cell_type": "code",
   "execution_count": null,
   "metadata": {},
   "outputs": [],
   "source": [
    "2 * 1e6 + 1.005e10"
   ]
  },
  {
   "cell_type": "code",
   "execution_count": null,
   "metadata": {},
   "outputs": [],
   "source": [
    "curr_bounds = (10049500000, 10052000000)"
   ]
  },
  {
   "cell_type": "code",
   "execution_count": null,
   "metadata": {},
   "outputs": [],
   "source": [
    "plot_phys(df=events_df, phys_bounds=(10049552384, 10053746412), min_t=1.63, max_t=1.67)"
   ]
  },
  {
   "cell_type": "code",
   "execution_count": null,
   "metadata": {},
   "outputs": [],
   "source": [
    "# plot_phys(events_df, clusters_for_event[14], exclude_cpuid=[62], min_t=1.40, max_t=1.45)"
   ]
  },
  {
   "cell_type": "code",
   "execution_count": null,
   "metadata": {},
   "outputs": [],
   "source": [
    "plot_phys(events_df, clusters_for_event[0])"
   ]
  },
  {
   "cell_type": "code",
   "execution_count": null,
   "metadata": {},
   "outputs": [],
   "source": [
    "def plot_virt(df: pd.DataFrame, cpuid = [], exclude_cpuid = [], min_t = None, max_t = None) :\n",
    "    cpu_df = df.loc[df['cpuid'].isin(cpuid)] if cpuid else df\n",
    "    bounded_df = df.loc[~df['cpuid'].isin(exclude_cpuid)] if exclude_cpuid else cpu_df\n",
    "    \n",
    "    if max_t is not None :\n",
    "        if min_t is None :\n",
    "            min_t = 0.0\n",
    "        bounded_df = filter_in_bounds(bounded_df, 'time', (min_t, max_t))\n",
    "        \n",
    "    loads_df = bounded_df.loc[bounded_df['event'] == \"cpu/mem-loads/P\"]\n",
    "    stores_df = bounded_df.loc[bounded_df['event'] == \"cpu/mem-stores/P\"]\n",
    "    l3_miss_remote_df = bounded_df.loc[bounded_df['event'] == \"mem_load_l3_miss_retired.remote_dram:P\"]\n",
    "    \n",
    "    metric=\"virt\"\n",
    "    \n",
    "    plt.scatter(loads_df['time'], loads_df[metric], label=\"Memory loads\", color='tab:green', s=3, alpha=0.5, zorder=10)\n",
    "    plt.scatter(stores_df['time'], stores_df[metric], label=\"Memory stores\", color='tab:blue', s=3, alpha=0.5, zorder=15)\n",
    "    plt.scatter(l3_miss_remote_df['time'], l3_miss_remote_df[metric], label=\"l3 miss remote dram\", color='r', s=3, alpha=0.5, zorder=10)\n",
    "    \n",
    "    cpuids = bounded_df['cpuid'].unique()\n",
    "    for cid in cpuids :\n",
    "        curr_df = bounded_df.loc[bounded_df['cpuid'] == cid]\n",
    "        plt.plot(curr_df['time'], curr_df[metric], label=f\"CPU {cid}\", linestyle='--', linewidth=0.4, alpha=0.5)\n",
    "        \n",
    "        # break\n",
    "\n",
    "    # fig = plt.gcf()\n",
    "    # if width is None :\n",
    "    #     width = 28\n",
    "    # if height is None :\n",
    "    #     height = 12\n",
    "    # plt.gcf().set_size_inches(120, 60)\n",
    "    plt.gcf().set_size_inches(60, 30)\n",
    "    plt.grid(axis=\"y\", which=\"both\")\n",
    "    plt.grid(axis=\"x\", which=\"major\")\n",
    "    plt.xlabel('Time')\n",
    "    plt.ylabel('Virt')\n",
    "    plt.title('Scatter Plot of Time vs Virt with Cache Results Colored')\n",
    "    plt.legend(title='Cache Result', loc='upper right')\n",
    "    plt.show()"
   ]
  },
  {
   "cell_type": "code",
   "execution_count": null,
   "metadata": {},
   "outputs": [],
   "source": [
    "filtered_df = filter_in_bounds(events_df, 'phys', curr_bounds)\n",
    "filtered_df"
   ]
  },
  {
   "cell_type": "code",
   "execution_count": null,
   "metadata": {},
   "outputs": [],
   "source": [
    "filtered_df['event'].value_counts()"
   ]
  },
  {
   "cell_type": "code",
   "execution_count": null,
   "metadata": {},
   "outputs": [],
   "source": [
    "plot_virt(filtered_df)"
   ]
  },
  {
   "cell_type": "code",
   "execution_count": null,
   "metadata": {},
   "outputs": [],
   "source": [
    "sorted(filtered_df['virt'].to_numpy())[-10:]"
   ]
  },
  {
   "cell_type": "code",
   "execution_count": null,
   "metadata": {},
   "outputs": [],
   "source": [
    "virt_clusters = get_cluster_bounds(filtered_df['virt'].to_numpy(), 1e6, 0)\n",
    "\n",
    "# plot_virt(df=events_df, phys_bounds=curr_bounds, max_t=0.8)\n",
    "virt_clusters"
   ]
  },
  {
   "cell_type": "code",
   "execution_count": null,
   "metadata": {},
   "outputs": [],
   "source": [
    "plot_virt(filter_in_bounds(filtered_df, 'virt', virt_clusters[0]), max_t=0.8)"
   ]
  },
  {
   "cell_type": "code",
   "execution_count": null,
   "metadata": {},
   "outputs": [],
   "source": [
    "plot_virt(filter_in_bounds(filtered_df, 'virt', virt_clusters[1]), max_t=0.8)"
   ]
  },
  {
   "cell_type": "markdown",
   "metadata": {},
   "source": [
    "## Fixed address investigation"
   ]
  },
  {
   "cell_type": "code",
   "execution_count": null,
   "metadata": {},
   "outputs": [],
   "source": [
    "fwd_subset = events_df.loc[events_df['event'] == \"mem_load_l3_miss_retired.remote_fwd:P\"]\n",
    "hitm_subset = events_df.loc[events_df['event'] == \"mem_load_l3_miss_retired.remote_hitm:P\"]\n",
    "dram_subset = events_df.loc[events_df['event'] == \"mem_load_l3_miss_retired.remote_dram:P\"]\n",
    "\n",
    "print(f\"fwd percentage of same node : {local_access_proportion(fwd_subset)}\")\n",
    "print(f\"hitm percentage of same node : {local_access_proportion(hitm_subset)}\")\n",
    "print(f\"dram percentage of same node : {local_access_proportion(dram_subset)}\")\n",
    "\n",
    "same_node_dram = get_same_node(dram_subset)\n",
    "same_node_fwd = get_same_node(fwd_subset)\n",
    "same_node_fwd.loc[same_node_fwd['time'] > 0.1]"
   ]
  },
  {
   "cell_type": "code",
   "execution_count": null,
   "metadata": {},
   "outputs": [],
   "source": [
    "same_node_dram"
   ]
  },
  {
   "cell_type": "code",
   "execution_count": null,
   "metadata": {},
   "outputs": [],
   "source": [
    "page_size = 1024\n",
    "pages_width = 200\n",
    "single_phys = 9391753584\n",
    "single_bounds = (int(single_phys - pages_width * page_size), int(single_phys + pages_width * page_size))"
   ]
  },
  {
   "cell_type": "code",
   "execution_count": null,
   "metadata": {},
   "outputs": [],
   "source": [
    "plot_phys(events_df, single_bounds, w = 20, h = 10, dot_size=30, max_t=0.18)"
   ]
  },
  {
   "cell_type": "code",
   "execution_count": null,
   "metadata": {},
   "outputs": [],
   "source": []
  }
 ],
 "metadata": {
  "kernelspec": {
   "display_name": "python_env",
   "language": "python",
   "name": "python3"
  },
  "language_info": {
   "codemirror_mode": {
    "name": "ipython",
    "version": 3
   },
   "file_extension": ".py",
   "mimetype": "text/x-python",
   "name": "python",
   "nbconvert_exporter": "python",
   "pygments_lexer": "ipython3",
   "version": "3.11.2"
  }
 },
 "nbformat": 4,
 "nbformat_minor": 2
}
